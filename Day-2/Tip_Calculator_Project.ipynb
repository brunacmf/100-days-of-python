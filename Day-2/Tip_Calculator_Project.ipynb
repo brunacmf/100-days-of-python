{
 "cells": [
  {
   "cell_type": "markdown",
   "metadata": {},
   "source": [
    "# Tip Calculator\n",
    "\n",
    "## Instructions\n",
    "\n",
    "Build a program that calculates how much each person should pay. The inputs are the number of people and the % of the tip.\n"
   ]
  },
  {
   "cell_type": "code",
   "execution_count": 1,
   "metadata": {},
   "outputs": [
    {
     "name": "stdout",
     "output_type": "stream",
     "text": [
      "Welcome to the tip calculator!\n"
     ]
    }
   ],
   "source": [
    "#inputs\n",
    "\n",
    "print(\"Welcome to the tip calculator!\")\n",
    "bill = input(\"What was your total bill? $\")\n",
    "tip = input(\"How much tip would you like to give? 10, 12 or 15?\")\n",
    "people = input(\"How many people will split the bill?\")"
   ]
  },
  {
   "cell_type": "code",
   "execution_count": 2,
   "metadata": {},
   "outputs": [
    {
     "name": "stdout",
     "output_type": "stream",
     "text": [
      "Each pearson should pay: $42.84\n"
     ]
    }
   ],
   "source": [
    "#calculations\n",
    "\n",
    "total = (float(bill) * ( 1 + int(tip)/100)) / int(people)\n",
    "\n",
    "round_total = round(total, 2) #set the result to 2 decimal places\n",
    "\n",
    "print(f\"Each pearson should pay: ${round_total}\")"
   ]
  }
 ],
 "metadata": {
  "interpreter": {
   "hash": "cf9743d40c121b3962ef9f358b1c4c6bc787507fb7b3956b4f01170f3d20f97b"
  },
  "kernelspec": {
   "display_name": "Python 3.10.1 64-bit",
   "language": "python",
   "name": "python3"
  },
  "language_info": {
   "codemirror_mode": {
    "name": "ipython",
    "version": 3
   },
   "file_extension": ".py",
   "mimetype": "text/x-python",
   "name": "python",
   "nbconvert_exporter": "python",
   "pygments_lexer": "ipython3",
   "version": "3.10.1"
  },
  "orig_nbformat": 4
 },
 "nbformat": 4,
 "nbformat_minor": 2
}
