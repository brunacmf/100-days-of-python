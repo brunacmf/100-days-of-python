{
 "cells": [
  {
   "cell_type": "markdown",
   "metadata": {},
   "source": [
    "## Instructions\n",
    "\n",
    "Create a auction program that take names and bids and than shows the winner."
   ]
  },
  {
   "cell_type": "code",
   "execution_count": 2,
   "metadata": {},
   "outputs": [
    {
     "ename": "ModuleNotFoundError",
     "evalue": "No module named 'replit'",
     "output_type": "error",
     "traceback": [
      "\u001b[1;31m---------------------------------------------------------------------------\u001b[0m",
      "\u001b[1;31mModuleNotFoundError\u001b[0m                       Traceback (most recent call last)",
      "Input \u001b[1;32mIn [2]\u001b[0m, in \u001b[0;36m<module>\u001b[1;34m\u001b[0m\n\u001b[0;32m      1\u001b[0m \u001b[38;5;66;03m#import clear\u001b[39;00m\n\u001b[1;32m----> 3\u001b[0m \u001b[38;5;28;01mfrom\u001b[39;00m \u001b[38;5;21;01mreplit\u001b[39;00m \u001b[38;5;28;01mimport\u001b[39;00m clear\n\u001b[0;32m      5\u001b[0m \u001b[38;5;66;03m#Create a dictionary to store names and bids\u001b[39;00m\n\u001b[0;32m      6\u001b[0m bids \u001b[38;5;241m=\u001b[39m {}\n",
      "\u001b[1;31mModuleNotFoundError\u001b[0m: No module named 'replit'"
     ]
    }
   ],
   "source": [
    "#import clear\n",
    "\n",
    "from replit import clear\n",
    "s\n",
    "#Create a dictionary to store names and bids\n",
    "bids = {}\n",
    "\n",
    "#condition to the program continues to run\n",
    "bidding_finished = False\n",
    "\n",
    "#def funtion\n",
    "def find_highest_bidder(bidding_record):\n",
    "  highest_bid = 0\n",
    "  winner = \"\"\n",
    "  # bidding_record = {\"name1\": bid1, \"name2\": bid2}\n",
    "  for bidder in bidding_record:\n",
    "    bid_amount = bidding_record[bidder]\n",
    "    if bid_amount > highest_bid: \n",
    "      highest_bid = bid_amount\n",
    "      winner = bidder\n",
    "  print(f\"The winner is {winner} with a bid of ${highest_bid}\")\n",
    "\n",
    "#continuity\n",
    "while not bidding_finished:\n",
    "  name = input(\"What is your name?: \")\n",
    "  price = int(input(\"What is your bid?: $\"))\n",
    "  bids[name] = price\n",
    "  should_continue = input(\"Are there any other bidders? Type 'yes or 'no'.\\n\")\n",
    "  if should_continue == \"no\":\n",
    "    bidding_finished = True\n",
    "    find_highest_bidder(bids)\n",
    "  elif should_continue == \"yes\":\n",
    "    clear()"
   ]
  }
 ],
 "metadata": {
  "interpreter": {
   "hash": "cf9743d40c121b3962ef9f358b1c4c6bc787507fb7b3956b4f01170f3d20f97b"
  },
  "kernelspec": {
   "display_name": "Python 3.10.1 64-bit",
   "language": "python",
   "name": "python3"
  },
  "language_info": {
   "codemirror_mode": {
    "name": "ipython",
    "version": 3
   },
   "file_extension": ".py",
   "mimetype": "text/x-python",
   "name": "python",
   "nbconvert_exporter": "python",
   "pygments_lexer": "ipython3",
   "version": "3.10.1"
  },
  "orig_nbformat": 4
 },
 "nbformat": 4,
 "nbformat_minor": 2
}
