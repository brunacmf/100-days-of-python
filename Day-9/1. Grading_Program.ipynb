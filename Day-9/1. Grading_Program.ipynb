{
 "cells": [
  {
   "cell_type": "markdown",
   "metadata": {},
   "source": [
    "## Instructions\n",
    "\n",
    "Write a program that converts scores in grades. By the end of your program, you should have a  dictionary called student_grades that should contain student names for keys and their grades for values. "
   ]
  },
  {
   "cell_type": "code",
   "execution_count": null,
   "metadata": {},
   "outputs": [],
   "source": [
    "#dictionary with the scores\n",
    "student_scores = {\n",
    "  \"Harry\": 81,\n",
    "  \"Ron\": 78,\n",
    "  \"Hermione\": 99, \n",
    "  \"Draco\": 74,\n",
    "  \"Neville\": 62,\n",
    "}\n",
    "\n",
    "#empty dictionary \n",
    "student_grades = {}\n",
    "\n",
    "#create dictionary with grades\n",
    "for student in student_scores:\n",
    "    score = student_scores[student]\n",
    "    if score > 90:\n",
    "        student_grades[student] = 'Outstanding'\n",
    "    elif score > 80:\n",
    "        student_grades[student] = 'Exceeds Expectations'\n",
    "    elif score > 70:\n",
    "        student_grades[student] = 'Acceptable'\n",
    "    else:\n",
    "        student_grades[student] = 'Fail'\n",
    "\n",
    "    \n",
    "\n",
    "print(student_grades)"
   ]
  }
 ],
 "metadata": {
  "interpreter": {
   "hash": "cf9743d40c121b3962ef9f358b1c4c6bc787507fb7b3956b4f01170f3d20f97b"
  },
  "kernelspec": {
   "display_name": "Python 3.10.1 64-bit",
   "language": "python",
   "name": "python3"
  },
  "language_info": {
   "name": "python",
   "version": "3.10.1"
  },
  "orig_nbformat": 4
 },
 "nbformat": 4,
 "nbformat_minor": 2
}
