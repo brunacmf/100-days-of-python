{
 "cells": [
  {
   "cell_type": "markdown",
   "metadata": {},
   "source": [
    "## Instructions\n",
    "Build a program that calculates how many cans of paint you should buy given the height and the width of the wall."
   ]
  },
  {
   "cell_type": "code",
   "execution_count": null,
   "metadata": {},
   "outputs": [],
   "source": [
    "#import math module to round up the number of cans\n",
    "import math \n",
    "\n",
    "#define the function\n",
    "def paint_calc(height, width, cover):\n",
    "    number_of_cans = math.ceil(height*width/cover)\n",
    "    print(f\"You'll need {number_of_cans} cans of paint\")\n",
    "\n",
    "test_h = int(input(\"Height of wall: \"))\n",
    "test_w = int(input(\"Width of wall: \"))\n",
    "coverage = 5\n",
    "\n",
    "paint_calc(height=test_h, width=test_w, cover=coverage)"
   ]
  }
 ],
 "metadata": {
  "interpreter": {
   "hash": "cf9743d40c121b3962ef9f358b1c4c6bc787507fb7b3956b4f01170f3d20f97b"
  },
  "kernelspec": {
   "display_name": "Python 3.10.1 64-bit",
   "language": "python",
   "name": "python3"
  },
  "language_info": {
   "name": "python",
   "version": "3.10.1"
  },
  "orig_nbformat": 4
 },
 "nbformat": 4,
 "nbformat_minor": 2
}
