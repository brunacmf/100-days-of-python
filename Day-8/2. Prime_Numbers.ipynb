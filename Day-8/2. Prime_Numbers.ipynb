{
 "cells": [
  {
   "cell_type": "markdown",
   "metadata": {},
   "source": [
    "## Instructions\n",
    "\n",
    "Write a function that checks whether if the number passed into it is a prime number or not."
   ]
  },
  {
   "cell_type": "code",
   "execution_count": null,
   "metadata": {},
   "outputs": [],
   "source": [
    "# define the function\n",
    "def prime_checker(number):\n",
    "    is_prime = True\n",
    "    for i in range(2, number):\n",
    "        if number % i == 0:\n",
    "            is_prime = False\n",
    "    if is_prime:\n",
    "        print(\"It's a prime number\")\n",
    "    else:\n",
    "        print(\"It's not a prime number\")\n",
    "\n",
    "#set the input\n",
    "n = int(input(\"Check this number: \"))\n",
    "\n",
    "#call the function\n",
    "prime_checker(number=n)"
   ]
  }
 ],
 "metadata": {
  "interpreter": {
   "hash": "cf9743d40c121b3962ef9f358b1c4c6bc787507fb7b3956b4f01170f3d20f97b"
  },
  "kernelspec": {
   "display_name": "Python 3.10.1 64-bit",
   "language": "python",
   "name": "python3"
  },
  "language_info": {
   "name": "python",
   "version": "3.10.1"
  },
  "orig_nbformat": 4
 },
 "nbformat": 4,
 "nbformat_minor": 2
}
