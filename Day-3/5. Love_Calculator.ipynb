{
 "cells": [
  {
   "cell_type": "markdown",
   "metadata": {},
   "source": [
    "## Instructions\n",
    "\n",
    "Write a program that tests the compatibility between two people.\n",
    "\n",
    "To work out the love score between two people:\n",
    "\n",
    "Take both people's names and check for the number of times the letters in the word TRUE occurs. \n",
    "\n",
    "Then check for the number of times the letters in the word LOVE occurs. \n",
    "\n",
    "Then combine these numbers to make a 2 digit number.\n",
    "\n"
   ]
  },
  {
   "cell_type": "code",
   "execution_count": 1,
   "metadata": {},
   "outputs": [
    {
     "name": "stdout",
     "output_type": "stream",
     "text": [
      "Welcome to the Love Calculator!\n"
     ]
    }
   ],
   "source": [
    "#inputs\n",
    "\n",
    "print(\"Welcome to the Love Calculator!\")\n",
    "name1 = input(\"What is your name? \\n\")\n",
    "name2 = input(\"What is their name? \\n\")"
   ]
  },
  {
   "cell_type": "code",
   "execution_count": 2,
   "metadata": {},
   "outputs": [
    {
     "name": "stdout",
     "output_type": "stream",
     "text": [
      "Your score is 86.\n"
     ]
    }
   ],
   "source": [
    "#calculations\n",
    "\n",
    "name1 = name1.lower()\n",
    "name2 = name2.lower()\n",
    "\n",
    "names = name1 + name2\n",
    "\n",
    "letter_t = names.count('t')\n",
    "letter_r = names.count('r')\n",
    "letter_u = names.count('u')\n",
    "letter_e = names.count('e')\n",
    "letter_l = names.count('l')\n",
    "letter_o = names.count('o')\n",
    "letter_v = names.count('v')\n",
    "\n",
    "dezena = letter_t + letter_r + letter_u + letter_e\n",
    "unidade = letter_l + letter_o + letter_v +  letter_e\n",
    "\n",
    "result = str(dezena) + str(unidade)\n",
    "\n",
    "score = int(result)\n",
    "\n",
    "if score < 10 or score > 90:\n",
    "    print(f'Your score is {score}, you go together like coke and mentos.')\n",
    "elif 40 < score < 50:\n",
    "    print(f'Your score is {score}, you are alright together.')\n",
    "else:\n",
    "    print(f'Your score is {score}.')"
   ]
  }
 ],
 "metadata": {
  "interpreter": {
   "hash": "cf9743d40c121b3962ef9f358b1c4c6bc787507fb7b3956b4f01170f3d20f97b"
  },
  "kernelspec": {
   "display_name": "Python 3.10.1 64-bit",
   "language": "python",
   "name": "python3"
  },
  "language_info": {
   "codemirror_mode": {
    "name": "ipython",
    "version": 3
   },
   "file_extension": ".py",
   "mimetype": "text/x-python",
   "name": "python",
   "nbconvert_exporter": "python",
   "pygments_lexer": "ipython3",
   "version": "3.10.1"
  },
  "orig_nbformat": 4
 },
 "nbformat": 4,
 "nbformat_minor": 2
}
