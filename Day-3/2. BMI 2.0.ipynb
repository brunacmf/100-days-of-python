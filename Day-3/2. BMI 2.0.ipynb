{
 "cells": [
  {
   "cell_type": "markdown",
   "metadata": {},
   "source": [
    "## Instructions\n",
    "\n",
    "Write a program that interprets the Body Mass Index (BMI) based on a user's weight and height.\n",
    "\n",
    "It should tell them the interpretation of their BMI based on the BMI value.\n",
    "\n",
    "* Under 18.5 they are underweight\n",
    "* Over 18.5 but below 25 they have a normal weight\n",
    "* Over 25 but below 30 they are slightly overweight\n",
    "* Over 30 but below 35 they are obese\n",
    "* Above 35 they are clinically obese."
   ]
  },
  {
   "cell_type": "code",
   "execution_count": 1,
   "metadata": {},
   "outputs": [],
   "source": [
    "#input weight and height\n",
    "\n",
    "height = float(input(\"enter your height in m: \"))\n",
    "weight = float(input(\"enter your weight in kg: \"))\n",
    "\n",
    "\n"
   ]
  },
  {
   "cell_type": "code",
   "execution_count": 2,
   "metadata": {},
   "outputs": [
    {
     "name": "stdout",
     "output_type": "stream",
     "text": [
      "Your BMI is 29, you are slightly overweight\n"
     ]
    }
   ],
   "source": [
    "#calculate BMI\n",
    "\n",
    "bmi = weight / height ** 2\n",
    "\n",
    "if bmi < 18.5:\n",
    "    print(f'Your BMI is {round(bmi)}, you are underweight')\n",
    "elif bmi < 25:\n",
    "    print(f'Your BMI is {round(bmi)}, you have a normal weight')\n",
    "elif bmi < 30:\n",
    "    print(f'Your BMI is {round(bmi)}, you are slightly overweight')\n",
    "elif bmi < 35:\n",
    "    print(f'Your BMI is {round(bmi)}, you are obese')\n",
    "else:\n",
    "    print(f'Your BMI is {round(bmi)}, you are clinically obese')"
   ]
  }
 ],
 "metadata": {
  "interpreter": {
   "hash": "cf9743d40c121b3962ef9f358b1c4c6bc787507fb7b3956b4f01170f3d20f97b"
  },
  "kernelspec": {
   "display_name": "Python 3.10.1 64-bit",
   "language": "python",
   "name": "python3"
  },
  "language_info": {
   "codemirror_mode": {
    "name": "ipython",
    "version": 3
   },
   "file_extension": ".py",
   "mimetype": "text/x-python",
   "name": "python",
   "nbconvert_exporter": "python",
   "pygments_lexer": "ipython3",
   "version": "3.10.1"
  },
  "orig_nbformat": 4
 },
 "nbformat": 4,
 "nbformat_minor": 2
}
