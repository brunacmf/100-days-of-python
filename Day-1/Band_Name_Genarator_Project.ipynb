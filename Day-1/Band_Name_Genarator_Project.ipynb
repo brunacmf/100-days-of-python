{
 "cells": [
  {
   "cell_type": "markdown",
   "metadata": {},
   "source": [
    "## Band Name Generator\n",
    "\n",
    "Generates a name for your band "
   ]
  },
  {
   "cell_type": "code",
   "execution_count": 1,
   "metadata": {},
   "outputs": [
    {
     "name": "stdout",
     "output_type": "stream",
     "text": [
      "Welcome to Band Name Generator!\n",
      "Your Band Name is: London Thor\n"
     ]
    }
   ],
   "source": [
    "#1. Create a greeting for your program.\n",
    "\n",
    "print(\"Welcome to Band Name Generator!\")\n",
    "\n",
    "#2. Ask the user for the city that they grew up in.\n",
    "\n",
    "city = input(\"What city did you grow up in?\\n\")\n",
    "\n",
    "#3. Ask the user for the name of a pet.\n",
    "\n",
    "pet_name = input(\"What's the name of your pet?\\n\")\n",
    "\n",
    "#4. Combine the name of their city and pet and show them their band name.\n",
    "\n",
    "print(\"Your Band Name is: \" + city + \" \" + pet_name)"
   ]
  }
 ],
 "metadata": {
  "interpreter": {
   "hash": "cf9743d40c121b3962ef9f358b1c4c6bc787507fb7b3956b4f01170f3d20f97b"
  },
  "kernelspec": {
   "display_name": "Python 3.10.1 64-bit",
   "language": "python",
   "name": "python3"
  },
  "language_info": {
   "codemirror_mode": {
    "name": "ipython",
    "version": 3
   },
   "file_extension": ".py",
   "mimetype": "text/x-python",
   "name": "python",
   "nbconvert_exporter": "python",
   "pygments_lexer": "ipython3",
   "version": "3.10.1"
  },
  "orig_nbformat": 4
 },
 "nbformat": 4,
 "nbformat_minor": 2
}
