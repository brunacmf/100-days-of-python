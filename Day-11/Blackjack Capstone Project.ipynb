{
 "cells": [
  {
   "cell_type": "markdown",
   "metadata": {},
   "source": [
    "## Instructions\n",
    "\n",
    "Build a Black Jack game"
   ]
  },
  {
   "cell_type": "code",
   "execution_count": 1,
   "metadata": {},
   "outputs": [],
   "source": [
    "logo = \"\"\"\n",
    ".------.            _     _            _    _            _    \n",
    "|A_  _ |.          | |   | |          | |  (_)          | |   \n",
    "|( \\/ ).-----.     | |__ | | __ _  ___| | ___  __ _  ___| | __\n",
    "| \\  /|K /\\  |     | '_ \\| |/ _` |/ __| |/ / |/ _` |/ __| |/ /\n",
    "|  \\/ | /  \\ |     | |_) | | (_| | (__|   <| | (_| | (__|   < \n",
    "`-----| \\  / |     |_.__/|_|\\__,_|\\___|_|\\_\\ |\\__,_|\\___|_|\\_\\\\\n",
    "      |  \\/ K|                            _/ |                \n",
    "      `------'                           |__/           \n",
    "\"\"\""
   ]
  },
  {
   "cell_type": "code",
   "execution_count": 2,
   "metadata": {},
   "outputs": [],
   "source": [
    "import random"
   ]
  },
  {
   "cell_type": "code",
   "execution_count": 3,
   "metadata": {},
   "outputs": [],
   "source": [
    "#create a list with all the possible cards\n",
    "cards = [11, 2, 3, 4, 5, 6, 7, 8, 9, 10, 10, 10, 10]"
   ]
  },
  {
   "cell_type": "code",
   "execution_count": 4,
   "metadata": {},
   "outputs": [],
   "source": [
    "#def a funcion that deals cards\n",
    "def deal_card():\n",
    " card = random.choice(cards)\n",
    " return card"
   ]
  },
  {
   "cell_type": "code",
   "execution_count": 5,
   "metadata": {},
   "outputs": [],
   "source": [
    "#def a function that calculates score\n",
    "\n",
    "def calculate_score(list):\n",
    "  \n",
    "  if sum(list) == 21 and len(list) == 2:\n",
    "    return 0\n",
    "  if 11 in list and sum(list) > 21:\n",
    "    list.remove(11)\n",
    "    list.append(1)\n",
    "  return sum(list)"
   ]
  },
  {
   "cell_type": "code",
   "execution_count": 6,
   "metadata": {},
   "outputs": [],
   "source": [
    "#def a function that compares user's and computer's scores\n",
    "\n",
    "def check(user_score, computer_score):\n",
    "  \n",
    "  if user_score > 21 and computer_score > 21:\n",
    "    return \"You went over. You lose\"\n",
    "\n",
    "  if user_score == computer_score:\n",
    "    return \"Draw \"\n",
    "  elif computer_score == 0:\n",
    "    return \"You lose. Opponent has a Blackjack\"\n",
    "  elif user_score == 0:\n",
    "    return \"Win with a Blackjack\"\n",
    "  elif user_score > 21:\n",
    "    return \"You went over. You lose\"\n",
    "  elif computer_score > 21:\n",
    "    return \"Opponent went over. You win\"\n",
    "  elif user_score > computer_score:\n",
    "    return \"You win\"\n",
    "  else:\n",
    "    return \"You lose\""
   ]
  },
  {
   "cell_type": "code",
   "execution_count": 7,
   "metadata": {},
   "outputs": [],
   "source": [
    "#def a function to play the game\n",
    "\n",
    "def play_blackjack():\n",
    "\n",
    "  print(logo)\n",
    "\n",
    "  user_cards = []\n",
    "  computer_cards = []\n",
    "  end_of_game = False\n",
    "\n",
    "  for _ in range(2):\n",
    "    user_cards.append(deal_card())\n",
    "    computer_cards.append(deal_card())\n",
    "\n",
    "  while not end_of_game:\n",
    "   \n",
    "    user_score = calculate_score(user_cards)\n",
    "    computer_score = calculate_score(computer_cards)\n",
    "    print(f\"   Your cards: {user_cards}, current score: {user_score}\")\n",
    "    print(f\"   Computer's first card: {computer_cards[0]}\")\n",
    "\n",
    "    if user_score == 0 or computer_score == 0 or user_score > 21:\n",
    "      end_of_game = True\n",
    "    else:\n",
    "\n",
    "      game_cont = input(\"Type 'y' to get another card, type 'n' to pass: \")\n",
    "      if game_cont == \"y\":\n",
    "        user_cards.append(deal_card())\n",
    "      else:\n",
    "        end_of_game = True\n",
    "\n",
    "  #The computer should keep drawing cards as long as it has a score less than 17.\n",
    "  while computer_score != 0 and computer_score < 17:\n",
    "    computer_cards.append(deal_card())\n",
    "    computer_score = calculate_score(computer_cards)\n",
    "\n",
    "  print(f\"   Your final hand: {user_cards}, final score: {user_score}\")\n",
    "  print(f\"   Computer's final hand: {computer_cards}, final score: {computer_score}\")\n",
    "  print(\n",
    "    check(user_score, computer_score)\n",
    "    )"
   ]
  },
  {
   "cell_type": "code",
   "execution_count": 10,
   "metadata": {},
   "outputs": [
    {
     "name": "stdout",
     "output_type": "stream",
     "text": [
      "\n",
      ".------.            _     _            _    _            _    \n",
      "|A_  _ |.          | |   | |          | |  (_)          | |   \n",
      "|( \\/ ).-----.     | |__ | | __ _  ___| | ___  __ _  ___| | __\n",
      "| \\  /|K /\\  |     | '_ \\| |/ _` |/ __| |/ / |/ _` |/ __| |/ /\n",
      "|  \\/ | /  \\ |     | |_) | | (_| | (__|   <| | (_| | (__|   < \n",
      "`-----| \\  / |     |_.__/|_|\\__,_|\\___|_|\\_\\ |\\__,_|\\___|_|\\_\\\n",
      "      |  \\/ K|                            _/ |                \n",
      "      `------'                           |__/           \n",
      "\n",
      "   Your cards: [10, 7], current score: 17\n",
      "   Computer's first card: 8\n",
      "   Your final hand: [10, 7], final score: 17\n",
      "   Computer's final hand: [8, 10], final score: 18\n",
      "You lose\n"
     ]
    }
   ],
   "source": [
    "#call the game function\n",
    "\n",
    "play_blackjack()"
   ]
  }
 ],
 "metadata": {
  "interpreter": {
   "hash": "cf9743d40c121b3962ef9f358b1c4c6bc787507fb7b3956b4f01170f3d20f97b"
  },
  "kernelspec": {
   "display_name": "Python 3.10.1 64-bit",
   "language": "python",
   "name": "python3"
  },
  "language_info": {
   "codemirror_mode": {
    "name": "ipython",
    "version": 3
   },
   "file_extension": ".py",
   "mimetype": "text/x-python",
   "name": "python",
   "nbconvert_exporter": "python",
   "pygments_lexer": "ipython3",
   "version": "3.10.1"
  },
  "orig_nbformat": 4
 },
 "nbformat": 4,
 "nbformat_minor": 2
}
